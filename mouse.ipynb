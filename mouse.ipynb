{
 "cells": [
  {
   "cell_type": "code",
   "execution_count": 1,
   "metadata": {},
   "outputs": [
    {
     "name": "stdout",
     "output_type": "stream",
     "text": [
      "                                           points_str   target_point  label\n",
      "id                                                                         \n",
      "1   353,2607,349;367,2607,376;388,2620,418;416,262...     1420.5,202      1\n",
      "2   283,2490,190;290,2490,229;297,2490,253;304,249...     1018.0,189      1\n",
      "3   255,2503,424;297,2503,445;353,2529,469;423,254...    601.5,559.5      1\n",
      "4   437,2724,466;549,2711,514;605,2724,553;661,275...      675.0,202      1\n",
      "5   248,2542,73;255,2542,109;297,2542,163;339,2555...      787.0,189      1\n",
      "6   171,2685,229;178,2685,277;178,2672,301;206,265...  1049.5,1313.5      1\n",
      "7   227,2464,289;234,2464,349;241,2464,385;248,246...     1060.0,748      1\n",
      "8   199,2516,253;241,2542,277;255,2542,301;283,254...      573.5,189      1\n",
      "9   178,2503,577;192,2503,592;199,2503,601;206,250...      724.0,189      1\n",
      "10  290,2555,229;318,2555,247;346,2555,274;374,255...     1133.5,189      1\n"
     ]
    }
   ],
   "source": [
    "import pandas as pd\n",
    "import matplotlib.pyplot as plt\n",
    "#%matplotlib inline\n",
    "train_df = pd.read_csv(\"dsjtzs_txfz_training.txt\",header=None,delim_whitespace=True)\n",
    "train_df.columns = [\"id\",\"points_str\",\"target_point\",\"label\"]\n",
    "\n",
    "\n",
    "train_df.set_index([\"id\"],inplace=True)\n",
    "\n",
    "def f(s):\n",
    "    s =str(s)\n",
    "    return s[0:-1]\n",
    "train_df[\"points_str\"]= train_df[\"points_str\"].apply(f)\n",
    "print train_df.head(10)\n",
    "\n",
    "# print train_df.loc[1,\"points\"]\n",
    "\n",
    "# points 都有数据\n",
    "#print pd.isnull(train_df[\"points\"]).value_counts()\n",
    "\n",
    "# 2600 个1 正例；400个0 负例 (id:2601-3000)\n",
    "#train_df.label.value_counts()\n",
    "\n",
    "# id 都是不同的\n",
    "#train_df.id.value_counts().shape[0]"
   ]
  },
  {
   "cell_type": "code",
   "execution_count": 2,
   "metadata": {},
   "outputs": [
    {
     "name": "stdout",
     "output_type": "stream",
     "text": [
      "                                           points_str   target_point  label  \\\n",
      "id                                                                            \n",
      "1   353,2607,349;367,2607,376;388,2620,418;416,262...     1420.5,202      1   \n",
      "2   283,2490,190;290,2490,229;297,2490,253;304,249...     1018.0,189      1   \n",
      "3   255,2503,424;297,2503,445;353,2529,469;423,254...    601.5,559.5      1   \n",
      "4   437,2724,466;549,2711,514;605,2724,553;661,275...      675.0,202      1   \n",
      "5   248,2542,73;255,2542,109;297,2542,163;339,2555...      787.0,189      1   \n",
      "6   171,2685,229;178,2685,277;178,2672,301;206,265...  1049.5,1313.5      1   \n",
      "7   227,2464,289;234,2464,349;241,2464,385;248,246...     1060.0,748      1   \n",
      "8   199,2516,253;241,2542,277;255,2542,301;283,254...      573.5,189      1   \n",
      "9   178,2503,577;192,2503,592;199,2503,601;206,250...      724.0,189      1   \n",
      "10  290,2555,229;318,2555,247;346,2555,274;374,255...     1133.5,189      1   \n",
      "\n",
      "                                             points_x  \\\n",
      "id                                                      \n",
      "1   [353, 367, 388, 416, 500, 584, 675, 724, 780, ...   \n",
      "2   [283, 290, 297, 304, 311, 325, 339, 346, 360, ...   \n",
      "3   [255, 297, 353, 423, 479, 542, 605, 668, 745, ...   \n",
      "4   [437, 549, 605, 661, 731, 780, 822, 871, 885, ...   \n",
      "5   [248, 255, 297, 339, 451, 577, 717, 885, 948, ...   \n",
      "6   [171, 178, 178, 206, 353, 486, 668, 815, 899, ...   \n",
      "7   [227, 234, 241, 248, 255, 262, 269, 276, 283, ...   \n",
      "8   [199, 241, 255, 283, 339, 395, 465, 493, 507, ...   \n",
      "9   [178, 192, 199, 206, 220, 227, 241, 255, 262, ...   \n",
      "10  [290, 318, 346, 374, 437, 493, 570, 675, 766, ...   \n",
      "\n",
      "                                             points_y  \\\n",
      "id                                                      \n",
      "1   [2607, 2607, 2620, 2620, 2620, 2620, 2620, 262...   \n",
      "2   [2490, 2490, 2490, 2490, 2490, 2503, 2503, 250...   \n",
      "3   [2503, 2503, 2529, 2542, 2555, 2568, 2581, 260...   \n",
      "4   [2724, 2711, 2724, 2750, 2789, 2802, 2828, 284...   \n",
      "5   [2542, 2542, 2542, 2555, 2568, 2594, 2633, 265...   \n",
      "6   [2685, 2685, 2672, 2659, 2594, 2594, 2594, 259...   \n",
      "7   [2464, 2464, 2464, 2464, 2464, 2464, 2464, 246...   \n",
      "8   [2516, 2542, 2542, 2542, 2542, 2542, 2542, 254...   \n",
      "9   [2503, 2503, 2503, 2503, 2503, 2503, 2503, 250...   \n",
      "10  [2555, 2555, 2555, 2555, 2555, 2555, 2555, 255...   \n",
      "\n",
      "                                           point_time  target_point_x  \\\n",
      "id                                                                      \n",
      "1   [349, 376, 418, 442, 493, 547, 592, 643, 694, ...          1420.5   \n",
      "2   [190, 229, 253, 295, 340, 382, 436, 484, 538, ...          1018.0   \n",
      "3   [424, 445, 469, 499, 517, 541, 562, 589, 610, ...           601.5   \n",
      "4   [466, 514, 553, 613, 730, 751, 787, 847, 907, ...           675.0   \n",
      "5   [73, 109, 163, 217, 265, 316, 364, 424, 466, 5...           787.0   \n",
      "6   [229, 277, 301, 346, 400, 448, 505, 550, 604, ...          1049.5   \n",
      "7   [289, 349, 385, 412, 445, 481, 493, 553, 589, ...          1060.0   \n",
      "8   [253, 277, 301, 346, 397, 442, 493, 541, 592, ...           573.5   \n",
      "9   [577, 592, 601, 619, 631, 637, 664, 679, 685, ...           724.0   \n",
      "10  [229, 247, 274, 298, 322, 343, 370, 394, 418, ...          1133.5   \n",
      "\n",
      "    target_point_y  \n",
      "id                  \n",
      "1            202.0  \n",
      "2            189.0  \n",
      "3            559.5  \n",
      "4            202.0  \n",
      "5            189.0  \n",
      "6           1313.5  \n",
      "7            748.0  \n",
      "8            189.0  \n",
      "9            189.0  \n",
      "10           189.0  \n"
     ]
    }
   ],
   "source": [
    "def f_x(s):\n",
    "    s =str(s)\n",
    "    splited =s.split(\";\")\n",
    "    ret =[]\n",
    "    for item in splited:\n",
    "        ret.append(int(item.split(\",\")[0]))\n",
    "    return ret\n",
    "        \n",
    "train_df[\"points_x\"]= train_df[\"points_str\"].apply(f_x)\n",
    "\n",
    "def f_y (s):\n",
    "    s = str(s)\n",
    "    splited=s.split(\";\")\n",
    "    ret = []\n",
    "    for item in splited:\n",
    "        ret.append(int(item.split(\",\")[1]))\n",
    "    return ret\n",
    "train_df[\"points_y\"]=train_df[\"points_str\"].apply(f_y)\n",
    "\n",
    "def f_time (s):\n",
    "    s =str(s)\n",
    "    splited =s.split(\";\")\n",
    "    ret=[]\n",
    "    for item in splited:\n",
    "        ret.append(int(item.split(\",\")[2]))\n",
    "    return ret\n",
    "train_df[\"points_time\"]=train_df[\"points_str\"].apply(f_time)\n",
    "\n",
    "def f_target_point_x(s):\n",
    "    s = str(s)\n",
    "    splited = s.split(\",\")\n",
    "    return float(splited[0])\n",
    "train_df[\"target_point_x\"]=train_df[\"target_point\"].apply(f_target_point_x)\n",
    "\n",
    "def f_target_point_y (s):\n",
    "    s =str(s)\n",
    "    splited =s.split(\",\")\n",
    "    return float(splited[1])\n",
    "train_df[\"target_point_y\"]=train_df[\"target_point\"].apply(f_target_point_y)\n",
    "\n",
    "print train_df.head(10)\n",
    "\n"
   ]
  },
  {
   "cell_type": "code",
   "execution_count": 12,
   "metadata": {},
   "outputs": [
    {
     "name": "stdout",
     "output_type": "stream",
     "text": [
      "1\n",
      "(1420.5, 202.0)\n",
      "-----------\n",
      "2\n",
      "(1018.0, 189.0)\n",
      "-----------\n",
      "2601\n",
      "(1470.5, 1144.5)\n",
      "-----------\n"
     ]
    },
    {
     "name": "stderr",
     "output_type": "stream",
     "text": [
      "/usr/lib/pymodules/python2.7/matplotlib/axes.py:4747: UserWarning: No labeled objects found. Use label='...' kwarg on individual plots.\n",
      "  warnings.warn(\"No labeled objects found. \"\n"
     ]
    },
    {
     "name": "stdout",
     "output_type": "stream",
     "text": [
      "2602\n",
      "(1329.5, 722.0)\n",
      "-----------\n"
     ]
    },
    {
     "name": "stderr",
     "output_type": "stream",
     "text": [
      "/usr/lib/pymodules/python2.7/matplotlib/collections.py:548: FutureWarning: elementwise comparison failed; returning scalar instead, but in the future will perform elementwise comparison\n",
      "  if self._edgecolors == 'face':\n"
     ]
    }
   ],
   "source": [
    "# plt.figure(figsize=(8,7),dpi=98)\n",
    "# p1 = plt.subplot(211)\n",
    "# p2 = plt.subplot(212)\n",
    "# x = train_df.loc[1,\"points_x\"]\n",
    "# y  = train_df.loc[1,\"points_y\"]\n",
    "# target_x = train_df.loc[1,\"target_point_x\"]\n",
    "# target_y = train_df.loc[1,\"target_point_y\"]\n",
    "# print x\n",
    "# print y\n",
    "# p1.plot(x,y,'-',color='r',label=\"person\")\n",
    "# p1.plot(target_x,target_y,marker='*')\n",
    "# p1.legend()\n",
    "# plt.show()\n",
    "ids = [1,2,2601,2602]\n",
    "for id in ids:\n",
    "    plt.figure(id)  #一个Figure对象可以包含多个子图（Axes）．指定了plt.figure(i)之后的操作就是在图表i 下进行的\n",
    "    x = train_df.loc[id,\"points_x\"]\n",
    "    y  = train_df.loc[id,\"points_y\"]\n",
    "    target_x = train_df.loc[id,\"target_point_x\"]\n",
    "    target_y = train_df.loc[id,\"target_point_y\"]\n",
    "#     print x\n",
    "#     print y\n",
    "    print id\n",
    "    print (target_x,target_y)\n",
    "    print \"-----------\"\n",
    "    if train_df.loc[id,\"label\"]==1:\n",
    "        labelStr=\"person\"\n",
    "    else:\n",
    "        labelStr=\"robort\"\n",
    "    plt.scatter(x,y,c=\"r\",marker=\"*\")\n",
    "#  plt.plot(x,y,'-',color='r',label=labelStr)\n",
    " #  plt.plot(target_x,target_y,marker='*')\n",
    "    plt.grid(True)\n",
    "    plt.legend()\n",
    "plt.show()"
   ]
  },
  {
   "cell_type": "code",
   "execution_count": 14,
   "metadata": {},
   "outputs": [
    {
     "name": "stdout",
     "output_type": "stream",
     "text": [
      "56\n"
     ]
    }
   ],
   "source": [
    "def  f (s):\n",
    "    ret = []\n",
    "    points_x= s[\"points_x\"]\n",
    "    points_time =s[\"points_time\"]\n",
    "    for x in range(1,len(s[\"points_x\"])):\n",
    "        velocity = (points_x[x]-points_x[x-1])/float(points_time[x]-points_time[x-1])\n",
    "        ret.append(velocity)\n",
    "train_df[\"velocity_x\"]= train_df[[\"points_x\",\"points_time\"]].apply(f)\n",
    "\n",
    "\n",
    "def f(s):\n",
    "    ret =[]\n",
    "    points_y = s[\"points_y\"]\n",
    "    points_time = s[\"points_time\"]\n",
    "    for x in range(1,len(points_y)):\n",
    "        velocity = (points_y[x]-points_y[])"
   ]
  }
 ],
 "metadata": {
  "kernelspec": {
   "display_name": "Python 2",
   "language": "python",
   "name": "python2"
  },
  "language_info": {
   "codemirror_mode": {
    "name": "ipython",
    "version": 2
   },
   "file_extension": ".py",
   "mimetype": "text/x-python",
   "name": "python",
   "nbconvert_exporter": "python",
   "pygments_lexer": "ipython2",
   "version": "2.7.6"
  }
 },
 "nbformat": 4,
 "nbformat_minor": 2
}
