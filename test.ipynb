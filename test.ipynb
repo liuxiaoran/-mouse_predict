{
 "cells": [
  {
   "cell_type": "code",
   "execution_count": 1,
   "metadata": {},
   "outputs": [
    {
     "name": "stdout",
     "output_type": "stream",
     "text": [
      "[(3, 2, 1), (1, 2, 3), (3, 4, 5)]\n"
     ]
    }
   ],
   "source": [
    "x=[(1,2,3),(3,4,5),(3,2,1)]\n",
    "def f(x,y):\n",
    "    if (x[2]>y[2]):\n",
    "        return 1\n",
    "    elif (x[2]<y[2]):\n",
    "        return -1\n",
    "    return 0\n",
    "x = sorted(x,f)\n",
    "print x"
   ]
  },
  {
   "cell_type": "code",
   "execution_count": 14,
   "metadata": {},
   "outputs": [
    {
     "name": "stdout",
     "output_type": "stream",
     "text": [
      "[(1, 2, 2), (3.5, 4.5, 3), (6, 7, 4)]\n"
     ]
    }
   ],
   "source": [
    " #有的点时间相同\n",
    "def f():\n",
    "    sorted_arr=[(1,2,2),(3,4,3),(4,5,3),(6,7,4)]\n",
    "    ret=[]\n",
    "    _sum_x =0;\n",
    "    _sum_y=0;\n",
    "    _count =0;\n",
    "    for i in range(0,len(sorted_arr)-1):\n",
    "        if (sorted_arr[i][2]!=sorted_arr[i+1][2]):\n",
    "                if _count==0:\n",
    "                     ret.append(sorted_arr[i])\n",
    "                else:\n",
    "                    _count +=1\n",
    "                    _sum_x+=sorted_arr[i][0]\n",
    "                    _sum_y+=sorted_arr[i][1]\n",
    "                    average_x =float( _sum_x ) / _count\n",
    "                    average_y =float(_sum_y)/_count\n",
    "                    ret.append((average_x,average_y,sorted_arr[i][2]))\n",
    "                    _count =0\n",
    "                    _sum_x=0\n",
    "                    _sum_y=0\n",
    "        else:\n",
    "            _sum_x += sorted_arr[i][0]\n",
    "            _sum_y+=sorted_arr[i][1]\n",
    "            _count+=1\n",
    "    \n",
    "    index = len(sorted_arr)-1\n",
    "    if (sorted_arr[index][2] == sorted_arr[index-1][2]):\n",
    "        _count+=1\n",
    "        _sum_x+=sorted_arr[index][0]\n",
    "        _sum_y+=sorted_arr[index][1]\n",
    "        average_x =float( _sum_x ) / _count\n",
    "        average_y =float(_sum_y)/_count\n",
    "        ret.append((average_x,average_y,sorted_arr[index][2]))\n",
    "    else:\n",
    "        ret.append(sorted_arr[index])\n",
    "        \n",
    "    print ret\n",
    "f()"
   ]
  }
 ],
 "metadata": {
  "kernelspec": {
   "display_name": "Python 2",
   "language": "python",
   "name": "python2"
  },
  "language_info": {
   "codemirror_mode": {
    "name": "ipython",
    "version": 2
   },
   "file_extension": ".py",
   "mimetype": "text/x-python",
   "name": "python",
   "nbconvert_exporter": "python",
   "pygments_lexer": "ipython2",
   "version": "2.7.6"
  }
 },
 "nbformat": 4,
 "nbformat_minor": 2
}
